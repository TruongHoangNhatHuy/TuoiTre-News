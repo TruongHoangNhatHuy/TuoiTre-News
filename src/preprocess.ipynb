{
 "cells": [
  {
   "cell_type": "code",
   "execution_count": 19,
   "metadata": {},
   "outputs": [],
   "source": [
    "import glob, os\n",
    "import numpy as np\n",
    "import pandas as pd\n",
    "import re\n",
    "from pyvi import ViTokenizer"
   ]
  },
  {
   "cell_type": "code",
   "execution_count": 20,
   "metadata": {},
   "outputs": [
    {
     "data": {
      "text/plain": [
       "['hết_nói',\n",
       " 'tính_phỏng',\n",
       " 'sang_năm',\n",
       " 'phỏng_theo',\n",
       " 'phía_bạn',\n",
       " 'chu_cha',\n",
       " 'lúc_ấy',\n",
       " 'quá',\n",
       " 'căn',\n",
       " 'thương_ôi']"
      ]
     },
     "execution_count": 20,
     "metadata": {},
     "output_type": "execute_result"
    }
   ],
   "source": [
    "def get_stopwords_list(stop_file_path):\n",
    "    \"\"\"load stop words \"\"\"\n",
    "    \n",
    "    with open(stop_file_path, 'r', encoding=\"utf-8\") as f:\n",
    "        stopwords = f.readlines()\n",
    "        stop_set = set(m.strip() for m in stopwords)\n",
    "        return list(frozenset(stop_set))\n",
    "    \n",
    "stopwords = get_stopwords_list('vietnamese_stopwords_dash.txt')\n",
    "stopwords[:10]"
   ]
  },
  {
   "cell_type": "code",
   "execution_count": 21,
   "metadata": {},
   "outputs": [],
   "source": [
    "lookup_dist = {\n",
    "    'k': ' ngàn_đồng',\n",
    "    'ko': 'không',\n",
    "    'h': ' giờ',\n",
    "    'j': 'gì',\n",
    "    'bt': 'bình thường',\n",
    "    'đc': 'được',\n",
    "    'ng': 'người',\n",
    "    'qá': 'quá',\n",
    "    'kiu': 'kêu',\n",
    "    'nv': 'nhân viên',\n",
    "    'vs': 'với',\n",
    "    'cf': 'cà_phê',\n",
    "    'sp': 'sản phẩm'\n",
    "}\n",
    "\n",
    "def text_standardization(text):\n",
    "    standard_text = []\n",
    "    for word in text.split():\n",
    "        standard_text.append(lookup_dist[word] if word in lookup_dist else word)\n",
    "    return \" \".join(standard_text)"
   ]
  },
  {
   "cell_type": "code",
   "execution_count": 22,
   "metadata": {},
   "outputs": [],
   "source": [
    "def preprocessing_pipeline(text):\n",
    "    # 1. lowercasing & punctuation removal\n",
    "    text = re.sub('[^\\w\\s]', '', text.lower())\n",
    "    text = re.sub('[/\\r?\\n|\\r/]', ' ', text)\n",
    "    # phát hiện từ ghép\n",
    "    text = ViTokenizer.tokenize(text)\n",
    "    # 2. stop words removal\n",
    "    text =  \" \".join(x for x in text.split() if x not in stopwords)\n",
    "    # 3. text standardization\n",
    "    text = text_standardization(text)\n",
    "    # 4. lemmatization (TO_DO)\n",
    "    \n",
    "    # 5. tokenization\n",
    "    # token = nltk.word_tokenize(text)\n",
    "    # 6. exploring text data\n",
    "    # freq_dist = nltk.FreqDist(token)\n",
    "    # freq_dist.plot(30)\n",
    "\n",
    "    return text"
   ]
  },
  {
   "cell_type": "code",
   "execution_count": 23,
   "metadata": {},
   "outputs": [],
   "source": [
    "def news_preprocessing(csv_path, save_path):\n",
    "    raw = pd.read_csv(csv_path)\n",
    "    raw['Content'] = raw['Content'].apply(preprocessing_pipeline)\n",
    "    raw['Summary'] = raw['Summary'].apply(preprocessing_pipeline)\n",
    "    raw.to_csv(save_path, index=False)"
   ]
  },
  {
   "cell_type": "code",
   "execution_count": 24,
   "metadata": {},
   "outputs": [
    {
     "name": "stdout",
     "output_type": "stream",
     "text": [
      "./clean_dataset/04-08\\tuoitre_congnghe.csv\n",
      "./clean_dataset/04-08\\tuoitre_dulich.csv\n",
      "./clean_dataset/04-08\\tuoitre_giaitri.csv\n",
      "./clean_dataset/04-08\\tuoitre_giaoduc.csv\n",
      "./clean_dataset/04-08\\tuoitre_kinhdoanh.csv\n",
      "./clean_dataset/04-08\\tuoitre_thethao.csv\n",
      "./clean_dataset/04-08\\tuoitre_vanhoa.csv\n"
     ]
    }
   ],
   "source": [
    "folder = './dataset/04-08'\n",
    "save_folder = './clean_dataset/04-08'\n",
    "for path in glob.glob(os.path.join(folder, \"*.csv\")):\n",
    "    save_path = os.path.join(save_folder, path.split('\\\\')[-1])\n",
    "    print(save_path)\n",
    "    news_preprocessing(path, save_path)"
   ]
  }
 ],
 "metadata": {
  "kernelspec": {
   "display_name": "Python 3",
   "language": "python",
   "name": "python3"
  },
  "language_info": {
   "codemirror_mode": {
    "name": "ipython",
    "version": 3
   },
   "file_extension": ".py",
   "mimetype": "text/x-python",
   "name": "python",
   "nbconvert_exporter": "python",
   "pygments_lexer": "ipython3",
   "version": "3.11.1"
  }
 },
 "nbformat": 4,
 "nbformat_minor": 2
}
