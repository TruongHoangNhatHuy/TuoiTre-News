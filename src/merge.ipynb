{
 "cells": [
  {
   "cell_type": "code",
   "execution_count": 14,
   "metadata": {},
   "outputs": [],
   "source": [
    "import os\n",
    "import glob\n",
    "import pandas as pd\n",
    "from datasets import Dataset\n",
    "\n",
    "# des_file = 'dataset\\\\tuoitre_thethao.csv'\n",
    "# df1 = pd.read_csv(des_file)\n",
    "# df2 = pd.read_csv('dataset\\\\backup\\\\tuoitre_thethao.csv')\n",
    "# print(df1.shape, df2.shape)\n",
    "\n",
    "# merged = pd.merge(df1, df2, how='outer').sort_values(by='Date', axis=0, ascending=False)\n",
    "# print(merged.shape)"
   ]
  },
  {
   "cell_type": "code",
   "execution_count": 10,
   "metadata": {},
   "outputs": [
    {
     "name": "stdout",
     "output_type": "stream",
     "text": [
      "./dataset\\04-08\n",
      "./dataset\\04-15\n",
      "./dataset\\04-23\n",
      "./dataset\\04-29\n",
      "./dataset\\05-06\n",
      "./dataset\\05-13\n"
     ]
    }
   ],
   "source": [
    "header = ['Title', 'Content', 'Date', 'Url', 'Summary']\n",
    "dataset = pd.DataFrame(index=None, columns=header)\n",
    "\n",
    "path = './dataset/'\n",
    "all_folders = glob.glob(os.path.join(path, \"*\"))\n",
    "for folder in all_folders:\n",
    "    print(folder)\n",
    "    all_files = glob.glob(os.path.join(folder, \"*.csv\"))\n",
    "    df = pd.concat((pd.read_csv(f) for f in all_files), ignore_index=True)\n",
    "    dataset = pd.merge(dataset, df, how='outer')"
   ]
  },
  {
   "cell_type": "code",
   "execution_count": 13,
   "metadata": {},
   "outputs": [
    {
     "name": "stdout",
     "output_type": "stream",
     "text": [
      "<class 'pandas.core.frame.DataFrame'>\n",
      "RangeIndex: 2911 entries, 0 to 2910\n",
      "Data columns (total 5 columns):\n",
      " #   Column   Non-Null Count  Dtype \n",
      "---  ------   --------------  ----- \n",
      " 0   Title    2911 non-null   object\n",
      " 1   Content  2909 non-null   object\n",
      " 2   Date     2911 non-null   object\n",
      " 3   Url      2911 non-null   object\n",
      " 4   Summary  2911 non-null   object\n",
      "dtypes: object(5)\n",
      "memory usage: 113.8+ KB\n"
     ]
    }
   ],
   "source": [
    "dataset.info()"
   ]
  },
  {
   "cell_type": "code",
   "execution_count": 16,
   "metadata": {},
   "outputs": [
    {
     "data": {
      "text/plain": [
       "DatasetDict({\n",
       "    train: Dataset({\n",
       "        features: ['Title', 'Content', 'Date', 'Url', 'Summary'],\n",
       "        num_rows: 2328\n",
       "    })\n",
       "    test: Dataset({\n",
       "        features: ['Title', 'Content', 'Date', 'Url', 'Summary'],\n",
       "        num_rows: 583\n",
       "    })\n",
       "})"
      ]
     },
     "execution_count": 16,
     "metadata": {},
     "output_type": "execute_result"
    }
   ],
   "source": [
    "dataset2 = Dataset.from_pandas(dataset)\n",
    "dataset2 = dataset2.train_test_split(test_size=0.2, seed=17)\n",
    "dataset2"
   ]
  }
 ],
 "metadata": {
  "kernelspec": {
   "display_name": "Python 3",
   "language": "python",
   "name": "python3"
  },
  "language_info": {
   "codemirror_mode": {
    "name": "ipython",
    "version": 3
   },
   "file_extension": ".py",
   "mimetype": "text/x-python",
   "name": "python",
   "nbconvert_exporter": "python",
   "pygments_lexer": "ipython3",
   "version": "3.11.1"
  }
 },
 "nbformat": 4,
 "nbformat_minor": 2
}
