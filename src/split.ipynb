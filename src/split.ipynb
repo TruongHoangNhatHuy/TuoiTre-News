{
 "cells": [
  {
   "cell_type": "code",
   "execution_count": 1,
   "metadata": {},
   "outputs": [],
   "source": [
    "import os\n",
    "import glob\n",
    "import pandas as pd\n",
    "from sklearn.model_selection import train_test_split"
   ]
  },
  {
   "cell_type": "code",
   "execution_count": 2,
   "metadata": {},
   "outputs": [
    {
     "name": "stdout",
     "output_type": "stream",
     "text": [
      "./dataset\\04-08\n",
      "./dataset\\04-15\n",
      "./dataset\\04-23\n",
      "./dataset\\04-29\n",
      "./dataset\\05-06\n",
      "./dataset\\05-13\n",
      "./dataset\\05-20\n",
      "./dataset\\vtv\n"
     ]
    }
   ],
   "source": [
    "header = ['Title', 'Content', 'Date', 'Url', 'Summary']\n",
    "dataset = pd.DataFrame(index=None, columns=header)\n",
    "\n",
    "path = './dataset/'\n",
    "all_folders = glob.glob(os.path.join(path, \"*\"))\n",
    "for folder in all_folders:\n",
    "    print(folder)\n",
    "    all_files = glob.glob(os.path.join(folder, \"*.csv\"))\n",
    "    df = pd.concat((pd.read_csv(f) for f in all_files), ignore_index=True)\n",
    "    dataset = pd.merge(dataset, df, how='outer')"
   ]
  },
  {
   "cell_type": "code",
   "execution_count": 3,
   "metadata": {},
   "outputs": [
    {
     "name": "stdout",
     "output_type": "stream",
     "text": [
      "<class 'pandas.core.frame.DataFrame'>\n",
      "Index: 6180 entries, 0 to 6324\n",
      "Data columns (total 5 columns):\n",
      " #   Column   Non-Null Count  Dtype \n",
      "---  ------   --------------  ----- \n",
      " 0   Title    6180 non-null   object\n",
      " 1   Content  6180 non-null   object\n",
      " 2   Date     6180 non-null   object\n",
      " 3   Url      6180 non-null   object\n",
      " 4   Summary  6180 non-null   object\n",
      "dtypes: object(5)\n",
      "memory usage: 289.7+ KB\n"
     ]
    }
   ],
   "source": [
    "dataset = dataset[dataset.duplicated() == False] # drop duplicate\n",
    "dataset.info()"
   ]
  },
  {
   "cell_type": "code",
   "execution_count": 4,
   "metadata": {},
   "outputs": [
    {
     "name": "stdout",
     "output_type": "stream",
     "text": [
      "4944 1236\n"
     ]
    }
   ],
   "source": [
    "train, test = train_test_split(dataset, test_size=0.2, random_state=17)\n",
    "print(len(train), len(test))"
   ]
  },
  {
   "cell_type": "code",
   "execution_count": 5,
   "metadata": {},
   "outputs": [],
   "source": [
    "train.to_csv('./split/train.csv', index=False)\n",
    "test.to_csv('./split/test.csv', index=False)"
   ]
  }
 ],
 "metadata": {
  "kernelspec": {
   "display_name": "Python 3",
   "language": "python",
   "name": "python3"
  },
  "language_info": {
   "codemirror_mode": {
    "name": "ipython",
    "version": 3
   },
   "file_extension": ".py",
   "mimetype": "text/x-python",
   "name": "python",
   "nbconvert_exporter": "python",
   "pygments_lexer": "ipython3",
   "version": "3.11.1"
  }
 },
 "nbformat": 4,
 "nbformat_minor": 2
}
